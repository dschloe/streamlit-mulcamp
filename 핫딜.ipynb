{
 "cells": [
  {
   "cell_type": "code",
   "execution_count": 1,
   "id": "42757df4-1351-44f2-9e93-202edade9122",
   "metadata": {},
   "outputs": [
    {
     "name": "stdout",
     "output_type": "stream",
     "text": [
      "https://www.ppomppu.co.kr/zboard/zboard.php?id=ppomppu&page=2&divpage=85\n",
      "https://www.ppomppu.co.kr/zboard/zboard.php?id=ppomppu&page=3&divpage=85\n",
      "https://www.ppomppu.co.kr/zboard/zboard.php?id=ppomppu&page=4&divpage=85\n",
      "https://www.ppomppu.co.kr/zboard/zboard.php?id=ppomppu&page=5&divpage=85\n",
      "https://www.ppomppu.co.kr/zboard/zboard.php?id=ppomppu&page=6&divpage=85\n",
      "https://www.ppomppu.co.kr/zboard/zboard.php?id=ppomppu&page=7&divpage=85\n",
      "https://www.ppomppu.co.kr/zboard/zboard.php?id=ppomppu&page=8&divpage=85\n",
      "https://www.ppomppu.co.kr/zboard/zboard.php?id=ppomppu&page=9&divpage=85\n"
     ]
    }
   ],
   "source": [
    "from selenium import webdriver\n",
    "from selenium.webdriver.chrome.service import Service\n",
    "from selenium.webdriver.common.by import By\n",
    "import pandas as pd\n",
    "import time\n",
    "import random\n",
    "\n",
    "def page1_crawling(driver):\n",
    "    titles = []\n",
    "    urls = []\n",
    "    start_num = 9\n",
    "    end_num = 47\n",
    "    for i in range(start_num, end_num + 1, 2):\n",
    "        title_css_path = '#revolution_main_table > tbody > tr:nth-child(' + str(i) + ') > td:nth-child(3) > table > tbody > tr > td:nth-child(2) > div > a > font'\n",
    "        titles.append(driver.find_element(By.CSS_SELECTOR, title_css_path).text)\n",
    "        \n",
    "        url_css_path = '#revolution_main_table > tbody > tr:nth-child(' + str(i) + ') > td:nth-child(3) > table > tbody > tr > td:nth-child(2) > div > a'\n",
    "        urls.append(driver.find_element(By.CSS_SELECTOR, url_css_path).get_attribute('href'))\n",
    "\n",
    "    return pd.DataFrame({\"title\": titles, \"urls\": urls})\n",
    "\n",
    "def other_crawling(driver):\n",
    "    titles = []\n",
    "    urls = []\n",
    "    start_num = 6\n",
    "    end_num = 44\n",
    "    #revolution_main_table > tbody > tr:nth-child(6) > td:nth-child(3) > table > tbody > tr > td:nth-child(2) > div > a > font\n",
    "    #revolution_main_table > tbody > tr:nth-child(8) > td:nth-child(3) > table > tbody > tr > td:nth-child(2) > div > a > font\n",
    "    #revolution_main_table > tbody > tr:nth-child(44) > td:nth-child(3) > table > tbody > tr > td:nth-child(2) > div > a > font\n",
    "    for i in range(start_num, end_num + 1, 2):\n",
    "        title_css_path = '#revolution_main_table > tbody > tr:nth-child(' + str(i) + ') > td:nth-child(3) > table > tbody > tr > td:nth-child(2) > div > a > font'\n",
    "        titles.append(driver.find_element(By.CSS_SELECTOR, title_css_path).text)\n",
    "        \n",
    "        url_css_path = '#revolution_main_table > tbody > tr:nth-child(' + str(i) + ') > td:nth-child(3) > table > tbody > tr > td:nth-child(2) > div > a'\n",
    "        urls.append(driver.find_element(By.CSS_SELECTOR, url_css_path).get_attribute('href'))\n",
    "\n",
    "    return pd.DataFrame({\"title\": titles, \"urls\": urls})\n",
    "\n",
    "def main():\n",
    "    CHROME_DRIVER_PATH = './drivers/chromedriver.exe'\n",
    "    service = Service(executable_path=CHROME_DRIVER_PATH)\n",
    "    options = webdriver.ChromeOptions()\n",
    "    driver = webdriver.Chrome(service=service, options=options)\n",
    "\n",
    "    URL = 'https://www.ppomppu.co.kr/zboard/zboard.php?id=ppomppu&page=1&divpage=85'\n",
    "    driver.get(url=URL)\n",
    "    df = page1_crawling(driver)\n",
    "    for i in range(2, 10):\n",
    "        URL = 'https://www.ppomppu.co.kr/zboard/zboard.php?id=ppomppu&page='+ str(i) + '&divpage=85'\n",
    "        print(URL)\n",
    "        driver.get(url=URL)\n",
    "        df = pd.concat([df, other_crawling(driver)], ignore_index=True)\n",
    "        time.sleep(random.uniform(2, 5))   # 2 ~ 5초 무작위로 설정\n",
    "        \n",
    "    df.to_csv(\"핫딜.csv\", index=False)\n",
    "    driver.quit()\n",
    "    \n",
    "if __name__ == \"__main__\":\n",
    "    main()"
   ]
  }
 ],
 "metadata": {
  "kernelspec": {
   "display_name": "Python 3 (ipykernel)",
   "language": "python",
   "name": "python3"
  },
  "language_info": {
   "codemirror_mode": {
    "name": "ipython",
    "version": 3
   },
   "file_extension": ".py",
   "mimetype": "text/x-python",
   "name": "python",
   "nbconvert_exporter": "python",
   "pygments_lexer": "ipython3",
   "version": "3.11.6"
  }
 },
 "nbformat": 4,
 "nbformat_minor": 5
}
