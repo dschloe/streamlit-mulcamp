{
 "cells": [
  {
   "cell_type": "code",
   "execution_count": 85,
   "metadata": {
    "id": "bcaSSAqAjcDr"
   },
   "outputs": [],
   "source": [
    "from selenium import webdriver\n",
    "from selenium.webdriver.chrome.service import Service\n",
    "\n",
    "CHROME_DRIVER_PATH = './drivers/chromedriver.exe'\n",
    "service = Service(executable_path=CHROME_DRIVER_PATH)\n",
    "options = webdriver.ChromeOptions()\n",
    "driver = webdriver.Chrome(service=service, options=options)\n",
    "\n",
    "URL='https://www.google.co.kr/imghp'\n",
    "driver.get(url=URL)"
   ]
  },
  {
   "cell_type": "markdown",
   "metadata": {
    "id": "SQKI4aRWjcDv"
   },
   "source": [
    "### 코드 설명\n",
    "- This Python code uses the Selenium WebDriver library to automate interactions with a web browser (Google Chrome) and open the Google Images homepage (https://www.google.co.kr/imghp).\n",
    "- from selenium import webdriver: This imports the WebDriver module from the Selenium library, allowing you to automate web browser interactions.\n",
    "- from selenium.webdriver.chrome.service import Service: This imports the Service class from the Selenium WebDriver for Chrome, which is required to specify the path to the ChromeDriver executable.\n",
    "- CHROME_DRIVER_PATH = '/resource/windows_115.0.5790.102/chromedriver.exe': This line defines the file path to the ChromeDriver executable. The ChromeDriver is necessary to communicate with the Chrome browser.\n",
    "- service = Service(executable_path=CHROME_DRIVER_PATH): This creates a Service object and specifies the path to the ChromeDriver executable using the executable_path parameter.\n",
    "- options = webdriver.ChromeOptions(): This creates a ChromeOptions object, which allows you to customize the behavior of the ChromeDriver.\n",
    "- driver = webdriver.Chrome(service=service, options=options): This creates a new instance of the Chrome WebDriver. It uses the service parameter to specify the Service object with the path to the ChromeDriver and the options parameter to set any desired options.\n",
    "- URL='https://www.google.co.kr/imghp': This defines the URL of the Google Images homepage as the URL variable.\n",
    "- driver.get(url=URL): This instructs the WebDriver to open the specified URL, in this case, the Google Images homepage. The get() method is used to navigate to the URL passed as an argument.\n",
    "- After running this code, the Chrome browser will open and navigate to the Google Images homepage. You can then perform various actions on the webpage using Selenium, such as interacting with elements, clicking buttons, entering text, and scraping data., and scraping data."
   ]
  },
  {
   "cell_type": "code",
   "execution_count": 86,
   "metadata": {
    "id": "JlQV89LHjcDx"
   },
   "outputs": [],
   "source": [
    "from selenium.webdriver.common.keys import Keys\n",
    "from selenium.webdriver.common.by import By\n",
    "\n",
    "elem = driver.find_element(By.CSS_SELECTOR, \"body > div.L3eUgb > div.o3j99.ikrT4e.om7nvf > form > div:nth-child(1) > div.A8SBwf > div.RNNXgb > div > div.a4bIc > textarea.gLFyf\")\n",
    "elem.send_keys(\"파리\")\n",
    "elem.send_keys(Keys.RETURN)"
   ]
  },
  {
   "cell_type": "markdown",
   "metadata": {
    "id": "-HyWEbqJjcDx"
   },
   "source": [
    "- This Python code snippet uses the Selenium WebDriver to perform a Google Images search for the keyword \"보라카이\" (which means \"ocean\" in Korean) after entering the search term in the Google Images search bar.\n",
    "- from selenium.webdriver.common.keys import Keys: This imports the Keys class from the selenium.webdriver.common.keys module. The Keys class provides a way to simulate keyboard keys, such as the Enter key (RETURN).\n",
    "- from selenium.webdriver.common.by import By: This imports the By class from the selenium.webdriver.common.by module. The By class is used to specify the mechanism used to locate elements on a web page. In this case, we are using By.CSS_SELECTOR to locate the search input field.\n",
    "- elem = driver.find_element(By.CSS_SELECTOR, \"body > div.L3eUgb > div.o3j99.ikrT4e.om7nvf > form > div:nth-child(1) > div.A8SBwf > div.RNNXgb > div > div.a4bIc > textarea.gLFyf\"): This line finds the input element on the Google Images search page using the CSS selector provided. The CSS selector specifies the exact location of the search bar on the webpage.\n",
    "- elem.send_ke보라카이(\"바다\"): This sends the te보라카이 \"바다\" (ocean) to the input element. It simulates typi보라카이 \"바다\" into the search bar.\n",
    "- elem.send_keys(Keys.RETURN): This sends the Enter key (RETURN) to the input element. It simulates pressing the Enter key after typing the search term. This action triggers the search on the Google Images page, and the results for the search t보라카이m \"바다\" will be displayed.\n",
    "- After running this code, the WebDriver will open the Google Images page, e보라카이er \"바다\" into the search bar, and simulate pressing the Enter key to perform the search. The search results for the keyword \"바다\" will then be displayed on the page.d on the page."
   ]
  },
  {
   "cell_type": "code",
   "execution_count": 87,
   "metadata": {
    "id": "vqkgye9NjcDy"
   },
   "outputs": [
    {
     "name": "stdout",
     "output_type": "stream",
     "text": [
      " 찾은 이미지 개수: 48\n"
     ]
    }
   ],
   "source": [
    "import time\n",
    "elem = driver.find_element(By.TAG_NAME, \"body\")\n",
    "links=[] \n",
    "for i in range(30):\n",
    "    elem.send_keys(Keys.PAGE_DOWN)\n",
    "    images = driver.find_elements(By.CSS_SELECTOR, f\"#islrg > div.islrc > div:nth-child({i}) > a.FRuiCf.islib.nfEiy > div.fR600b.islir > img\")\n",
    "    for image in images:\n",
    "        if image.get_attribute('src') is not None:\n",
    "           links.append(image.get_attribute('src'))\n",
    "    time.sleep(0.1)\n",
    "\n",
    "print(' 찾은 이미지 개수:', len(links))"
   ]
  },
  {
   "cell_type": "markdown",
   "metadata": {
    "id": "6Ye4Ml25jcDz"
   },
   "source": [
    "- This Python code uses the Selenium WebDriver to perform a series of actions on the Google Images search page.\n",
    "-  import time: This imports the time module, which is used to add time delays in the script. Time delays are useful when you want to wait for elements to load or for certain actions to be completed before proceeding.\n",
    "- elem = driver.find_element(By.TAG_NAME, \"body\"): This finds the body element of the web page using the By.TAG_NAME mechanism from the selenium.webdriver.common.by module. The body element is the main content area of the page and is used to simulate scrolling actions.\n",
    "- for i in range(60):: This loop will execute 60 times, simulating 60 Page Down key presses on the body element.\n",
    "- elem.send_keys(Keys.PAGE_DOWN): This sends the Page Down key to the body element. It simulates scrolling the page down, loading more images as the user would do manually.\n",
    "- time.sleep(0.1): This adds a short time delay of 0.1 seconds after each Page Down key press. The delay gives the page some time to load new images before the next scroll action.\n",
    "- try:: This initiates a try-except block. The code inside the try block will be executed, and if any exception occurs, the code inside the except block (if present) will be executed.\n",
    "- driver.find_element(By.CSS_SELECTOR, '#islmp > div > div > div > div.gBPM8 > div.qvfT1 > div.YstHxe > input').click(): This finds and clicks an element on the Google Images page. The element is located using its CSS selector. It appears to be an element that possibly selects all images on the page (a \"Select all\" checkbox, for example).\n",
    "- for i in range(60):: This is another loop similar to the one described earlier. It will execute 60 times, simulating 60 Page Down key presses on the body element.\n",
    "- elem.send_keys(Keys.PAGE_DOWN): This again sends the Page Down key to the body element, simulating scrolling the page down to load more images.\n",
    "- time.sleep(0.1): A time delay is added after each Page Down key press.\n",
    "- except: pass: If an exception occurs inside the try block, it will be caught, and this pass statement will allow the script to continue without raising an error. If the element with the CSS selector in the try block is not found, the script will continue executing without any interruption.\n",
    "- Overall, this code appears to be trying to scroll down the Google Images page multiple times (a total of 60 times in each case) to load more images. Additionally, it attempts to find and click an element with a specific CSS selector, which might be used to perform an action on the page. The exact purpose of this script depends on the specific context and use case."
   ]
  },
  {
   "cell_type": "code",
   "execution_count": 78,
   "metadata": {},
   "outputs": [
    {
     "name": "stdout",
     "output_type": "stream",
     "text": [
      " 찾은 이미지 개수: 48\n"
     ]
    }
   ],
   "source": [
    "\"\"\"\n",
    "links=[] \n",
    "for i in range(2, 100):\n",
    "    images = driver.find_elements(By.CSS_SELECTOR, f\"#islrg > div.islrc > div:nth-child({i}) > a.FRuiCf.islib.nfEiy > div.fR600b.islir > img\")\n",
    "    for image in images:\n",
    "        if image.get_attribute('src') is not None:\n",
    "            links.append(image.get_attribute('src'))\n",
    "        \n",
    "print(' 찾은 이미지 개수:',len(links))\n",
    "\"\"\""
   ]
  },
  {
   "cell_type": "markdown",
   "metadata": {
    "id": "jErcZvNijcD0"
   },
   "source": [
    "- This Python code snippet uses the Selenium WebDriver to find and collect the URLs of images displayed on the Google Images search page.\n",
    "- links = []: This initializes an empty list named links, where we will store the URLs of the images found on the Google Images page.\n",
    "- images = driver.find_elements(By.CSS_SELECTOR, \"#islrg > div.islrc > div > a.wXeWr.islib.nfEiy > div.bRMDJf.islir > img\"): This line finds all the image elements on the Google Images page using their CSS selector. The selector locates the img elements that are inside specific parent elements. The CSS selector is designed to capture the image elements shown on the page.\n",
    "- for image in images:: This initiates a loop that iterates over each image element found in the previous step.\n",
    "- if image.get_attribute('src') is not None:: This condition checks if the 'src' attribute of the image element is not None, which means the image has a valid URL source. Some images might not have a 'src' attribute if they are loaded dynamically or not yet fully loaded.\n",
    "- links.append(image.get_attribute('src')): If the 'src' attribute is not None, the code retrieves the value of the 'src' attribute (i.e., the image URL) using the get_attribute() method and adds it to the links list.\n",
    "- print(' 찾은 이미지 개수:',len(links)): After processing all the images, this line prints the number of images found and added to the links list.\n",
    "hOverall, this code snippet collects the URLs of images displayed on the Google Images search page and stores them in the links list. It provides the count of found images at the end of the execution. The links list will contain the URLs of the images that have a valid 'src' attribute, and you can use these URLs to download or process the images further.e images further."
   ]
  },
  {
   "cell_type": "code",
   "execution_count": 79,
   "metadata": {
    "id": "0YJPJs36jcD1",
    "outputId": "10254064-649d-493b-892f-d7e4638ecf3f"
   },
   "outputs": [
    {
     "name": "stdout",
     "output_type": "stream",
     "text": [
      "다운로드 완료하였습니다.\n"
     ]
    }
   ],
   "source": [
    "import urllib.request\n",
    "\n",
    "for k, i in enumerate(links):\n",
    "    url = i\n",
    "    urllib.request.urlretrieve(url, \".\\\\Images\\\\\"+str(k)+\".jpg\")\n",
    "\n",
    "print('다운로드 완료하였습니다.')"
   ]
  },
  {
   "cell_type": "markdown",
   "metadata": {
    "id": "8h1fFVtTjcD1"
   },
   "source": [
    "- This Python code uses the urllib.request module to download images from the provided URLs (stored in the links list) and save them to the local disk.\n",
    "- import urllib.request: This imports the urllib.request module, which is used for making HTTP requests and handling URLs.\n",
    "- for k, i in enumerate(links):: This initiates a loop that iterates over each URL in the links list. The enumerate() function is used to get both the index (k) and the URL (i) for each iteration.\n",
    "- url = i: This assigns the current URL (i) to the variable url, so we can use it to download the image.\n",
    "- urllib.request.urlretrieve(url, \".\\\\사진다운로드\\\\\"+str(k)+\".jpg\"): This line uses the urlretrieve() function from the urllib.request module to download the image from the specified URL and save it to the local disk. The first argument is the URL (url) from which the image will be downloaded, and the second argument is the destination path where the image will be saved. In this case, the destination path is \".\\\\사진다운로드\\\\\"+str(k)+\".jpg\". The str(k) part converts the index k to a string, which is appended to the destination path along with the \".jpg\" extension.\n",
    "- print('다운로드 완료하였습니다.'): After downloading all the images, this line prints the message \"다운로드 완료하였습니다.\" to indicate that the download process is finished.\n",
    "- Overall, this code downloads the images from the URLs specified in the links list and saves them to the local disk. The images will be saved in the directory ./사진다운로드/, and each image will be named with its corresponding index number followed by \".jpg\" (e.g., 0.jpg, 1.jpg, 2.jpg, and so on). If the directory 사진다운로드 does not exist, it will be created in the current working directory.ing directory."
   ]
  },
  {
   "cell_type": "code",
   "execution_count": 80,
   "metadata": {
    "id": "Ymta_fZkjcD2"
   },
   "outputs": [],
   "source": [
    "driver.quit()"
   ]
  }
 ],
 "metadata": {
  "colab": {
   "provenance": []
  },
  "interpreter": {
   "hash": "b3ba2566441a7c06988d0923437866b63cedc61552a5af99d1f4fb67d367b25f"
  },
  "kernelspec": {
   "display_name": "Python 3 (ipykernel)",
   "language": "python",
   "name": "python3"
  },
  "language_info": {
   "codemirror_mode": {
    "name": "ipython",
    "version": 3
   },
   "file_extension": ".py",
   "mimetype": "text/x-python",
   "name": "python",
   "nbconvert_exporter": "python",
   "pygments_lexer": "ipython3",
   "version": "3.11.6"
  }
 },
 "nbformat": 4,
 "nbformat_minor": 4
}
